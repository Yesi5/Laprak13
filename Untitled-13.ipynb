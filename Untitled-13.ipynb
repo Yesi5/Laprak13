{
 "cells": [
  {
   "cell_type": "code",
   "execution_count": 7,
   "metadata": {},
   "outputs": [
    {
     "name": "stdout",
     "output_type": "stream",
     "text": [
      "Masukkan 5 nama aplikasi di kategori Produktivitas\n",
      "Masukkan 5 nama aplikasi di kategori Hiburan\n",
      "Masukkan 5 nama aplikasi di kategori Utilitas\n",
      "{'Produktivitas': {'Microsoft Office', 'Evernote', 'Slack', 'Trello', 'Google Drive'}, 'Hiburan': {'Spotify', 'YouTube', 'Hulu', 'Netflix', 'Twitch'}, 'Utilitas': {'Spotify', 'Google Translate', 'Calculator', 'File Manager', 'Google Maps'}}\n",
      "[{'Microsoft Office', 'Evernote', 'Slack', 'Trello', 'Google Drive'}, {'Spotify', 'YouTube', 'Hulu', 'Netflix', 'Twitch'}, {'Spotify', 'Google Translate', 'Calculator', 'File Manager', 'Google Maps'}]\n",
      "Aplikasi yang muncul di semua kategori: set()\n",
      "Aplikasi yang hanya muncul di satu kategori: {'Microsoft Office', 'Evernote', 'YouTube', 'Google Translate', 'Calculator', 'Netflix', 'Slack', 'Trello', 'Hulu', 'File Manager', 'Twitch', 'Google Drive', 'Google Maps'}\n",
      "Aplikasi yang muncul di dua kategori: {'Spotify'}\n"
     ]
    }
   ],
   "source": [
    "# LATIHAN 1\n",
    "\n",
    "n = int(input('Masukkan jumlah kategori: '))\n",
    "\n",
    "data_aplikasi = {}\n",
    "semua_aplikasi = set()\n",
    "\n",
    "for _ in range(n):\n",
    "    nama_kategori = input('Masukkan nama kategori: ')\n",
    "    print(f'Masukkan 5 nama aplikasi di kategori {nama_kategori}')\n",
    "\n",
    "    aplikasi = set()\n",
    "    for _ in range(5):\n",
    "        nama_aplikasi = input('Nama aplikasi: ')\n",
    "        aplikasi.add(nama_aplikasi)\n",
    "        semua_aplikasi.add(nama_aplikasi)\n",
    "\n",
    "    data_aplikasi[nama_kategori] = aplikasi\n",
    "\n",
    "print(data_aplikasi)\n",
    "\n",
    "daftar_aplikasi_set = list(data_aplikasi.values())\n",
    "print(daftar_aplikasi_set)\n",
    "\n",
    "hasil = set.intersection(*daftar_aplikasi_set) if daftar_aplikasi_set else set()\n",
    "print('Aplikasi yang muncul di semua kategori:', hasil)\n",
    "\n",
    "aplikasi_satu_kategori = set()\n",
    "for aplikasi in semua_aplikasi:\n",
    "    if sum(aplikasi in kategori for kategori in daftar_aplikasi_set) == 1:\n",
    "        aplikasi_satu_kategori.add(aplikasi)\n",
    "print('Aplikasi yang hanya muncul di satu kategori:', aplikasi_satu_kategori)\n",
    "\n",
    "if n > 2:\n",
    "    aplikasi_dua_kategori = set.union(*daftar_aplikasi_set) - set.intersection(*daftar_aplikasi_set) - aplikasi_satu_kategori if daftar_aplikasi_set else set()\n",
    "    print('Aplikasi yang muncul di dua kategori:', aplikasi_dua_kategori)"
   ]
  },
  {
   "cell_type": "code",
   "execution_count": 8,
   "metadata": {},
   "outputs": [
    {
     "name": "stdout",
     "output_type": "stream",
     "text": [
      "List sebelum konversi: [1, 2, 3, 4, 5, 3, 2, 1]\n",
      "Set dari List: {1, 2, 3, 4, 5}\n",
      "\n",
      "Set sebelum konversi: {6, 7, 8, 9, 10}\n",
      "List dari Set: [6, 7, 8, 9, 10]\n",
      "\n",
      "Tuple sebelum konversi: (11, 12, 13, 14, 15, 11, 12)\n",
      "Set dari Tuple: {11, 12, 13, 14, 15}\n",
      "\n",
      "Set sebelum konversi: {6, 7, 8, 9, 10}\n",
      "Tuple dari Set: (6, 7, 8, 9, 10)\n"
     ]
    }
   ],
   "source": [
    "# LATIHAN 2\n",
    "\n",
    "my_list = [1, 2, 3, 4, 5, 3, 2, 1]\n",
    "my_set = {6, 7, 8, 9, 10, 7, 6}\n",
    "my_tuple = (11, 12, 13, 14, 15, 11, 12)\n",
    "\n",
    "print(\"List sebelum konversi:\", my_list)\n",
    "my_set_from_list = set(my_list)\n",
    "print(\"Set dari List:\", my_set_from_list)\n",
    "\n",
    "print(\"\\nSet sebelum konversi:\", my_set)\n",
    "my_list_from_set = list(my_set)\n",
    "print(\"List dari Set:\", my_list_from_set)\n",
    "\n",
    "print(\"\\nTuple sebelum konversi:\", my_tuple)\n",
    "my_set_from_tuple = set(my_tuple)\n",
    "print(\"Set dari Tuple:\", my_set_from_tuple)\n",
    "\n",
    "print(\"\\nSet sebelum konversi:\", my_set)\n",
    "my_tuple_from_set = tuple(my_set)\n",
    "print(\"Tuple dari Set:\", my_tuple_from_set)"
   ]
  },
  {
   "cell_type": "code",
   "execution_count": 9,
   "metadata": {},
   "outputs": [
    {
     "name": "stdout",
     "output_type": "stream",
     "text": [
      "Kata-kata yang muncul pada kedua file:\n",
      "beberapa\n",
      "di\n",
      "file\n",
      "ini\n",
      "kata\n",
      "kedua\n",
      "muncul\n",
      "teks\n"
     ]
    }
   ],
   "source": [
    "# LATIHAN 3\n",
    "\n",
    "def read_file(file_path):\n",
    "    try:\n",
    "        with open(file_path, 'r') as file:\n",
    "            return file.read().lower()\n",
    "    except FileNotFoundError:\n",
    "        print(f\"Error: File '{file_path}' tidak ditemukan.\")\n",
    "    except IOError:\n",
    "        print(f\"Error: Tidak dapat membaca file '{file_path}'.\")\n",
    "    return None\n",
    "\n",
    "def get_common_words(file1_path, file2_path):\n",
    "    file1_content = read_file(file1_path)\n",
    "    file2_content = read_file(file2_path)\n",
    "\n",
    "    if file1_content and file2_content:\n",
    "        file1_words = set(file1_content.split())\n",
    "        file2_words = set(file2_content.split())\n",
    "        common_words = file1_words.intersection(file2_words)\n",
    "        return common_words\n",
    "    return None\n",
    "\n",
    "if __name__ == \"__main__\":\n",
    "    file1_path = input(\"Masukkan nama file pertama: \")\n",
    "    file2_path = input(\"Masukkan nama file kedua: \")\n",
    "\n",
    "    common_words = get_common_words(file1_path, file2_path)\n",
    "    if common_words:\n",
    "        print(\"Kata-kata yang muncul pada kedua file:\")\n",
    "        for word in sorted(common_words):\n",
    "            print(word)\n",
    "    else:\n",
    "        print(\"Tidak dapat membaca salah satu atau kedua file.\")"
   ]
  }
 ],
 "metadata": {
  "kernelspec": {
   "display_name": "Python 3",
   "language": "python",
   "name": "python3"
  },
  "language_info": {
   "codemirror_mode": {
    "name": "ipython",
    "version": 3
   },
   "file_extension": ".py",
   "mimetype": "text/x-python",
   "name": "python",
   "nbconvert_exporter": "python",
   "pygments_lexer": "ipython3",
   "version": "3.12.0"
  }
 },
 "nbformat": 4,
 "nbformat_minor": 2
}
